{
  "nbformat": 4,
  "nbformat_minor": 0,
  "metadata": {
    "colab": {
      "provenance": [],
      "toc_visible": true
    },
    "kernelspec": {
      "name": "python3",
      "display_name": "Python 3"
    },
    "language_info": {
      "name": "python"
    }
  },
  "cells": [
    {
      "cell_type": "code",
      "source": [
        "# This Python 3 environment comes with many helpful analytics libraries installed\n",
        "# It is defined by the kaggle/python docker image: https://github.com/kaggle/docker-python\n",
        "# For example, here's several helpful packages to load in\n",
        "\n",
        "import numpy as np # linear algebra\n",
        "import pandas as pd # data processing, CSV file I/O (e.g. pd.read_csv)\n",
        "from sklearn.model_selection import train_test_split\n",
        "from sklearn.naive_bayes import MultinomialNB\n",
        "from sklearn.svm import SVC\n",
        "from sklearn.ensemble import RandomForestClassifier\n",
        "from sklearn.metrics import accuracy_score\n",
        "\n",
        "# Input data files are available in the \"../input/\" directory.\n",
        "# For example, running this (by clicking run or pressing Shift+Enter) will list all files under the input directory\n",
        "\n",
        "import os\n",
        "\n",
        "\n",
        "\n",
        "# Any results you write to the current directory are saved as output.\n"
      ],
      "metadata": {
        "id": "KhOFlE_q8zkE"
      },
      "execution_count": 11,
      "outputs": []
    },
    {
      "cell_type": "code",
      "source": [
        " 1. Change the max_features parameter of TfIdf\n",
        "\n",
        "temp_df =\n",
        "pd.DataFrame({'Algorithm':clfs.keys(),'Accuracy_max_ft_3000':accuracy_s\n",
        " cores,'Precision_max_ft_3000':precision_scores}).sort_values('Precision\n",
        " _max_ft_3000',ascending=False)\n",
        "\n",
        "temp_df =\n",
        "pd.DataFrame({'Algorithm':clfs.keys(),'Accuracy_scaling':accuracy_score\n",
        " s,'Precision_scaling':precision_scores}).sort_values('Precision_scaling\n",
        " ',ascending=False)\n",
        "\n",
        "new_df = performance_df.merge(temp_df,on='Algorithm')\n",
        "\n",
        "new_df_scaled = new_df.merge(temp_df,on='Algorithm')\n",
        "\n",
        "temp_df =\n",
        "pd.DataFrame({'Algorithm':clfs.keys(),'Accuracy_num_chars':accuracy_sco\n",
        " res,'Precision_num_chars':precision_scores}).sort_values('Precision_num\n",
        " _chars',ascending=False)\n",
        "\n",
        "\n",
        "\n",
        "\n",
        "\n",
        "new_df_scaled.merge(temp_df,on='Algorithm')\n",
        "\n",
        "\n",
        "# Voting Classifier\n",
        "svc = SVC(kernel='sigmoid', gamma=1.0,probability=True)\n",
        "mnb = MultinomialNB()\n",
        "etc = ExtraTreesClassifier(n_estimators=50, random_state=2)\n",
        "\n",
        "from sklearn.ensemble import VotingClassifier\n",
        "\n",
        "voting = VotingClassifier(estimators=[('svm', svc), ('nb', mnb), ('et',\n",
        "etc)],voting='soft')\n",
        "\n",
        "voting.fit(X_train,y_train)\n",
        "\n",
        "\n",
        "y_pred = voting.predict(X_test)\n",
        "print(\"Accuracy\",accuracy_score(y_test,y_pred))\n",
        "print(\"Precision\",precision_score(y_test,y_pred))\n",
        "\n",
        "\n",
        "# Applying stacking\n",
        "estimators=[('svm', svc), ('nb', mnb), ('et', etc)]\n",
        "final_estimator=RandomForestClassifier()\n",
        "\n",
        "from sklearn.ensemble import StackingClassifier\n",
        "\n",
        "\n",
        "\n",
        "\n",
        "\n",
        "clf = StackingClassifier(estimators=estimators,\n",
        "final_estimator=final_estimator)\n",
        "\n",
        "clf.fit(X_train,y_train)\n",
        "y_pred = clf.predict(X_test)\n",
        "print(\"Accuracy\",accuracy_score(y_test,y_pred))\n",
        "print(\"Precision\",precision_score(y_test,y_pred))\n"
      ],
      "metadata": {
        "colab": {
          "base_uri": "https://localhost:8080/"
        },
        "id": "r31KV7H-AjL9",
        "outputId": "d645cece-ea54-495d-95c9-fa6db424a416"
      },
      "execution_count": 16,
      "outputs": [
        {
          "output_type": "stream",
          "name": "stdout",
          "text": [
            "<class 'pandas.core.frame.DataFrame'>\n",
            "RangeIndex: 5172 entries, 0 to 5171\n",
            "Columns: 3002 entries, Email No. to Prediction\n",
            "dtypes: int64(3001), object(1)\n",
            "memory usage: 118.5+ MB\n"
          ]
        }
      ]
    }
  ]
}
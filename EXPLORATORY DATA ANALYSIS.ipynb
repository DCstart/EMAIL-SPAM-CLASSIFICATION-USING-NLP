{
  "nbformat": 4,
  "nbformat_minor": 0,
  "metadata": {
    "colab": {
      "provenance": [],
      "toc_visible": true
    },
    "kernelspec": {
      "name": "python3",
      "display_name": "Python 3"
    },
    "language_info": {
      "name": "python"
    }
  },
  "cells": [
    {
      "cell_type": "code",
      "source": [
        "# This Python 3 environment comes with many helpful analytics libraries installed\n",
        "# It is defined by the kaggle/python docker image: https://github.com/kaggle/docker-python\n",
        "# For example, here's several helpful packages to load in\n",
        "\n",
        "import numpy as np # linear algebra\n",
        "import pandas as pd # data processing, CSV file I/O (e.g. pd.read_csv)\n",
        "from sklearn.model_selection import train_test_split\n",
        "from sklearn.naive_bayes import MultinomialNB\n",
        "from sklearn.svm import SVC\n",
        "from sklearn.ensemble import RandomForestClassifier\n",
        "from sklearn.metrics import accuracy_score\n",
        "\n",
        "# Input data files are available in the \"../input/\" directory.\n",
        "# For example, running this (by clicking run or pressing Shift+Enter) will list all files under the input directory\n",
        "\n",
        "import os\n",
        "\n",
        "\n",
        "\n",
        "# Any results you write to the current directory are saved as output.\n"
      ],
      "metadata": {
        "id": "KhOFlE_q8zkE"
      },
      "execution_count": 11,
      "outputs": []
    },
    {
      "cell_type": "code",
      "source": [
        "df=pd.read_csv('emails.csv')\n",
        "df.head()\n",
        "\n",
        "\n",
        "\n",
        "\n",
        "\n",
        "\n",
        "df['target'].value_counts()\n",
        "\n",
        "\n",
        "import matplotlib.pyplot as plt\n",
        "plt.pie(df['target'].value_counts(),\n",
        "labels=['ham','spam'],autopct=\"%0.2f\")\n",
        "plt.show()\n",
        "\n",
        "\n",
        "# Data is imbalanced\n",
        "\n",
        "import nltk\n",
        "\n",
        "!pip install nltk\n",
        "\n",
        "\n",
        "nltk.download('punkt')\n",
        "\n",
        "\n",
        "df['num_characters'] = df['text'].apply(len)\n",
        "\n",
        "\n",
        "\n",
        "\n",
        "\n",
        "df.head()\n",
        "\n",
        "\n",
        "# num of words\n",
        "df['num_words'] = df['text'].apply(lambda x:len(nltk.word_tokenize(x)))\n",
        "\n",
        "df.head()\n",
        "\n",
        "\n",
        "df['num_sentences'] = df['text'].apply(lambda\n",
        "x:len(nltk.sent_tokenize(x)))\n",
        "\n",
        "df.head()\n",
        "\n",
        "\n",
        "\n",
        "\n",
        "\n",
        "df[['num_characters','num_words','num_sentences']].describe()\n",
        "\n",
        "\n",
        "# ham\n",
        "df[df['target'] ==\n",
        "0][['num_characters','num_words','num_sentences']].describe()\n",
        "\n",
        "\n",
        "\n",
        "\n",
        "\n",
        "#spam\n",
        "df[df['target'] ==\n",
        "1][['num_characters','num_words','num_sentences']].describe()\n",
        "\n",
        "\n",
        "import seaborn as sns\n",
        "\n",
        "plt.figure(figsize=(12,6))\n",
        "sns.histplot(df[df['target'] == 0]['num_characters'])\n",
        "sns.histplot(df[df['target'] == 1]['num_characters'],color='red')\n",
        "\n",
        "\n",
        "\n",
        "\n",
        "\n",
        "plt.figure(figsize=(12,6))\n",
        "sns.histplot(df[df['target'] == 0]['num_words'])\n",
        "sns.histplot(df[df['target'] == 1]['num_words'],color='red')\n",
        "\n",
        "\n",
        "sns.pairplot(df,hue='target')\n",
        "\n",
        "\n",
        "\n",
        "\n",
        "\n",
        "\n",
        "sns.heatmap(df.corr(),annot=True)\n",
        "\n",
        "\n",
        "\n",
        "\n"
      ],
      "metadata": {
        "colab": {
          "base_uri": "https://localhost:8080/"
        },
        "id": "r31KV7H-AjL9",
        "outputId": "d645cece-ea54-495d-95c9-fa6db424a416"
      },
      "execution_count": 16,
      "outputs": [
        {
          "output_type": "stream",
          "name": "stdout",
          "text": [
            "<class 'pandas.core.frame.DataFrame'>\n",
            "RangeIndex: 5172 entries, 0 to 5171\n",
            "Columns: 3002 entries, Email No. to Prediction\n",
            "dtypes: int64(3001), object(1)\n",
            "memory usage: 118.5+ MB\n"
          ]
        }
      ]
    }
  ]
}